{
 "cells": [
  {
   "cell_type": "markdown",
   "metadata": {},
   "source": [
    "## Lab 1"
   ]
  },
  {
   "cell_type": "markdown",
   "metadata": {},
   "source": [
    "#### Import packages"
   ]
  },
  {
   "cell_type": "code",
   "execution_count": 1,
   "metadata": {},
   "outputs": [],
   "source": [
    "import pandas as pd\n",
    "import numpy as np\n",
    "import matplotlib.pyplot as plt\n",
    "from sklearn.datasets import load_breast_cancer\n",
    "from sklearn.linear_model import LinearRegression\n",
    "from sklearn.neighbors import KNeighborsClassifier, KNeighborsRegressor\n",
    "from sklearn.model_selection import train_test_split, StratifiedKFold\n",
    "from sklearn.metrics import mean_squared_error, roc_curve, auc, accuracy_score\n",
    "\n",
    "SEED = 1234\n",
    "SPLIT_RATIO = 0.2"
   ]
  },
  {
   "cell_type": "markdown",
   "metadata": {},
   "source": [
    "### Q1"
   ]
  },
  {
   "cell_type": "markdown",
   "metadata": {},
   "source": [
    "__Regression__. In this exercise, we will use linear regression for estimating the number of\n",
    "hours a person would be absent from work given their available information. For this,\n",
    "we use the “absenteesim at work” dataset obtained from the UCI repository, which is\n",
    "attached to the assignment in Canvas. In the dataset, you will find information about\n",
    "individuals, such as their age, education, reasons for absence, etc., as well as the target\n",
    "variable, which is absenteesim time in hours.\n",
    "\n",
    "- (a) How many data points does the dataset include? How many features does each\n",
    "data point have?\n",
    "\n",
    "- (b) Randomly split the data into train and test with the ratio 80/20, that is, use 80%\n",
    "of the data to fit the line, and the remaining 20% for testing, with the pre-specified\n",
    "random seed. Train a linear regression model on the training data. Then, use the\n",
    "trained model to estimate hours of absence in the test data. Report the average\n",
    "root mean squared error (RMSE) on the test data.\n",
    "\n",
    "- (c) Perform 10-fold cross validation and report the RMSE obtained from each fold as\n",
    "well as their average.\n",
    "\n",
    "- (d) How does the result in (b) compare to the result in (c)? Based on your analysis,\n",
    "does it suffice to avoid using cross-validation and simply train and test with a\n",
    "random split of the data? Interpret."
   ]
  },
  {
   "cell_type": "markdown",
   "metadata": {},
   "source": [
    "#### (a)"
   ]
  },
  {
   "cell_type": "code",
   "execution_count": 2,
   "metadata": {},
   "outputs": [
    {
     "name": "stdout",
     "output_type": "stream",
     "text": [
      "The dataset includes 740 data points.\n",
      " Each data point has 21 features.\n"
     ]
    }
   ],
   "source": [
    "absent_df = pd.read_csv('Absenteeism_at_work.csv', sep=',')\n",
    "print('The dataset includes {} data points.\\n Each data point has {} features.'\n",
    "      .format(len(absent_df), absent_df.columns.size))"
   ]
  },
  {
   "cell_type": "markdown",
   "metadata": {},
   "source": [
    "#### (b)"
   ]
  },
  {
   "cell_type": "code",
   "execution_count": 3,
   "metadata": {},
   "outputs": [],
   "source": [
    "class Model(object):\n",
    "    def __init__(self, X=None, y=None):\n",
    "        self.seed = SEED\n",
    "        self.split_ratio = SPLIT_RATIO\n",
    "        self.model = None\n",
    "        self.X = X\n",
    "        self.y = y\n",
    "\n",
    "    def simple_split(self):\n",
    "        X_train, X_test, y_train, y_test = train_test_split(self.X,\n",
    "                                                            self.y,\n",
    "                                                            test_size=self.split_ratio,\n",
    "                                                            random_state=self.seed)\n",
    "        return X_train, X_test, y_train, y_test\n",
    "\n",
    "    def fit(self, X_train, y_train):\n",
    "        self.model.fit(X_train, y_train)\n",
    "\n",
    "    def predict(self, X_test):\n",
    "        return self.model.predict(X_test)\n",
    "\n",
    "    def loss(self, X_train, X_test, y_train, y_test):\n",
    "        return NotImplemented\n",
    "\n",
    "    def cross_val_evaluate(self, fold=None, cross_val=False):\n",
    "        return NotImplemented\n",
    "    \n",
    "\n",
    "class LinearRegressionModel(Model):\n",
    "    def __init__(self):\n",
    "        super(LinearRegressionModel, self).__init__(X=absent_df.iloc[:, :-1],\n",
    "                                                    y=absent_df.iloc[:, -1])\n",
    "        self.model = LinearRegression(fit_intercept=True, normalize=True)\n",
    "\n",
    "    def fit(self, X_train, y_train):\n",
    "        super(LinearRegressionModel, self).fit(X_train, y_train)\n",
    "\n",
    "    def predict(self, X_test):\n",
    "        return super(LinearRegressionModel, self).predict(X_test)\n",
    "\n",
    "    def loss(self, X_train, X_test, y_train, y_test):\n",
    "        self.fit(X_train, y_train)\n",
    "        y_pred = self.predict(X_test)\n",
    "        return np.sqrt(mean_squared_error(y_true=y_test, y_pred=y_pred))\n",
    "\n",
    "    def cross_val_evaluate(self, fold=None, cross_val=False):\n",
    "        if not cross_val:\n",
    "            X_train, X_test, y_train, y_test = self.simple_split()\n",
    "            return self.loss(X_train, X_test, y_train, y_test)\n",
    "        else:\n",
    "            rmse_lst = []\n",
    "            skf = StratifiedKFold(n_splits=fold, random_state=self.seed, shuffle=True)\n",
    "            for train_index, test_index in skf.split(self.X, self.y):\n",
    "                X_train, X_test, y_train, y_test = self.X.iloc[train_index, :], self.X.iloc[test_index, :], self.y[train_index], self.y[test_index]\n",
    "                rmse = self.loss(X_train, X_test, y_train, y_test)\n",
    "                rmse_lst.append(rmse)\n",
    "            return rmse_lst, np.mean(rmse_lst)\n",
    "        \n",
    "lr = LinearRegressionModel()"
   ]
  },
  {
   "cell_type": "code",
   "execution_count": 4,
   "metadata": {},
   "outputs": [
    {
     "name": "stdout",
     "output_type": "stream",
     "text": [
      "The RMSE on the test data is 8.888.\n"
     ]
    }
   ],
   "source": [
    "print('The RMSE on the test data is {:.3f}.'.format(lr.cross_val_evaluate()))"
   ]
  },
  {
   "cell_type": "markdown",
   "metadata": {},
   "source": [
    "#### (c)"
   ]
  },
  {
   "cell_type": "code",
   "execution_count": 5,
   "metadata": {},
   "outputs": [
    {
     "name": "stderr",
     "output_type": "stream",
     "text": [
      "/usr/local/lib/python3.6/dist-packages/sklearn/model_selection/_split.py:605: Warning: The least populated class in y has only 1 members, which is too few. The minimum number of members in any class cannot be less than n_splits=10.\n",
      "  % (min_groups, self.n_splits)), Warning)\n"
     ]
    },
    {
     "data": {
      "image/png": "[encoded data removed]",
      "text/plain": [
       "<Figure size 432x288 with 1 Axes>"
      ]
     },
     "metadata": {
      "needs_background": "light"
     },
     "output_type": "display_data"
    },
    {
     "name": "stdout",
     "output_type": "stream",
     "text": [
      "The average RMSE of the 10-fold cross validation is: 10.546.\n"
     ]
    }
   ],
   "source": [
    "rmse_lst, avg_rmse = lr.cross_val_evaluate(fold=10, cross_val=True)\n",
    "plt.plot(range(1, 11), rmse_lst)\n",
    "plt.title('The RMSE of 10-fold validation on the test data')\n",
    "plt.show()\n",
    "print('The average RMSE of the 10-fold cross validation is: {:0.3f}.'.format(avg_rmse))"
   ]
  },
  {
   "cell_type": "markdown",
   "metadata": {},
   "source": [
    "#### (d)"
   ]
  },
  {
   "cell_type": "markdown",
   "metadata": {},
   "source": [
    "The average RMSE of the 10-fold validation is larger than the RMSE of simple random train_test_split. No, it does not suffice to avoid using cross-validation. Because the RMSE score from simply apply a random split of the training and testing dataset is highly unstable. If we do not assign a fixed random \n",
    "seed, the RMSE would be varied in a wide range. For instance:"
   ]
  },
  {
   "cell_type": "code",
   "execution_count": 6,
   "metadata": {},
   "outputs": [],
   "source": [
    "def test_random_seed(tmp_seed, model=LinearRegressionModel()):\n",
    "    model.seed = tmp_seed\n",
    "    X_train, X_test, y_train, y_test = model.simple_split()\n",
    "    return model.loss(X_train, X_test, y_train, y_test)"
   ]
  },
  {
   "cell_type": "code",
   "execution_count": 7,
   "metadata": {},
   "outputs": [
    {
     "data": {
      "text/plain": [
       "11.22598908932569"
      ]
     },
     "execution_count": 7,
     "metadata": {},
     "output_type": "execute_result"
    }
   ],
   "source": [
    "test_random_seed(4321)"
   ]
  },
  {
   "cell_type": "code",
   "execution_count": 8,
   "metadata": {},
   "outputs": [
    {
     "data": {
      "text/plain": [
       "10.707758835029146"
      ]
     },
     "execution_count": 8,
     "metadata": {},
     "output_type": "execute_result"
    }
   ],
   "source": [
    "test_random_seed(5432)"
   ]
  },
  {
   "cell_type": "code",
   "execution_count": 9,
   "metadata": {},
   "outputs": [
    {
     "data": {
      "text/plain": [
       "17.2608274665027"
      ]
     },
     "execution_count": 9,
     "metadata": {},
     "output_type": "execute_result"
    }
   ],
   "source": [
    "test_random_seed(6543)"
   ]
  },
  {
   "cell_type": "code",
   "execution_count": 10,
   "metadata": {},
   "outputs": [
    {
     "data": {
      "text/plain": [
       "13.907089461667496"
      ]
     },
     "execution_count": 10,
     "metadata": {},
     "output_type": "execute_result"
    }
   ],
   "source": [
    "test_random_seed(7654)"
   ]
  },
  {
   "cell_type": "markdown",
   "metadata": {},
   "source": [
    "From the tests above, we can see that with different seed assigned, the outcome of RMSE oscillates \n",
    "substantially. Thus we could conclude that although with a slightly higher error when applying cross-validation, part of it actually includes the generalization error."
   ]
  },
  {
   "cell_type": "markdown",
   "metadata": {},
   "source": [
    "### Q2"
   ]
  },
  {
   "cell_type": "markdown",
   "metadata": {},
   "source": [
    "__K Nearest Neighbors (KNN) Classification__. Bob, our collaborator at Penn\n",
    "State Hershey Medical School is interested in predicting whether a cell is cancerous\n",
    "or not. Specifically, he is researching on the Breast Cancer dataset in which each cell\n",
    "is represented by a feature vector of its characteristics such as its size, etc., and is\n",
    "1\n",
    "classified as being benign, or malignant. Load the Breast Cancer dataset from sklearn\n",
    "datasets.\n",
    "\n",
    "- (a) How many data points does the dataset include? How many features does each\n",
    "data point have?\n",
    "- (b) Randomly split the data into train and test with the ratio 80/20, that is, use 80%\n",
    "of the data to fit the line, and the remaining 20% for testing, with the pre-specified\n",
    "random seed. Train a 5 nearest neighbor classifier on the training data. Then,\n",
    "use the trained model on the test data and report the area under the ROC curve\n",
    "(AUC).\n",
    "- (c) Perform 5-fold cross validation. Plot the ROC curve of each fold and compute\n",
    "the AUC of each fold. Then, report the average AUC of all 5 folds. Compare\n",
    "the obtained AUCs. Does it suffice to stick with the strategy in item (b), or is it\n",
    "more meaningful to perform cross validation? Please explain."
   ]
  },
  {
   "cell_type": "markdown",
   "metadata": {},
   "source": [
    "#### (a)"
   ]
  },
  {
   "cell_type": "code",
   "execution_count": 11,
   "metadata": {},
   "outputs": [
    {
     "name": "stdout",
     "output_type": "stream",
     "text": [
      "The dataset includes 569 data points.\n",
      " Each data point has 30 features.\n"
     ]
    }
   ],
   "source": [
    "X, y = load_breast_cancer(return_X_y=True)\n",
    "print('The dataset includes {} data points.\\n Each data point has {} features.'\n",
    "      .format(X.shape[0], X.shape[1]))"
   ]
  },
  {
   "cell_type": "markdown",
   "metadata": {},
   "source": [
    "#### (b)"
   ]
  },
  {
   "cell_type": "code",
   "execution_count": 12,
   "metadata": {},
   "outputs": [],
   "source": [
    "class KNNClassifier(Model):\n",
    "    def __init__(self):\n",
    "        super(KNNClassifier, self).__init__(X=load_breast_cancer().data,\n",
    "                                            y=load_breast_cancer().target)\n",
    "        self.model = KNeighborsClassifier(n_neighbors=5)\n",
    "\n",
    "    def fit(self, X_train, y_train):\n",
    "        return super(KNNClassifier, self).fit(X_train, y_train)\n",
    "\n",
    "    def predict(self, X_test):\n",
    "        return super(KNNClassifier, self).predict(X_test)\n",
    "\n",
    "    def loss(self, X_train, X_test, y_train, y_test):\n",
    "        self.fit(X_train, y_train)\n",
    "        y_pred = self.predict(X_test)\n",
    "        fpr, tpr, thresholds = roc_curve(y_true=y_test, y_score=y_pred)\n",
    "        auc_value = auc(fpr, tpr)\n",
    "        return fpr, tpr, auc_value\n",
    "\n",
    "    def plot_roc(self, fpr, tpr, auc_value, fold=None):\n",
    "        plt.figure()\n",
    "        plt.plot(fpr, tpr, color='red',\n",
    "                 lw=2, label='ROC curve (area = %0.3f)' % auc_value)\n",
    "        plt.plot([0, 1], [0, 1], lw=2, linestyle='--')\n",
    "        plt.xlim([0.0, 1.0])\n",
    "        plt.ylim([0.0, 1.05])\n",
    "        plt.xlabel('False Positive Rate')\n",
    "        plt.ylabel('True Positive Rate')\n",
    "        if fold != None:\n",
    "            plt.title('ROC plot of fold {}, auc = {}'.format(fold, auc_value))\n",
    "        else:\n",
    "            plt.title('ROC plot, auc = {}'.format(auc_value))\n",
    "        plt.legend(loc=\"lower right\")\n",
    "        plt.grid(True)\n",
    "        plt.show()\n",
    "\n",
    "    def cross_val_evaluate(self, fold=None, cross_val=False):\n",
    "        if not cross_val:\n",
    "            X_train, X_test, y_train, y_test = self.simple_split()\n",
    "            _, _, auc_value = self.loss(X_train, X_test, y_train, y_test)\n",
    "            return auc_value\n",
    "        else:\n",
    "            auc_lst = []\n",
    "            skf = StratifiedKFold(n_splits=fold, random_state=self.seed, shuffle=True)\n",
    "            fold = 1\n",
    "            for train_index, test_index in skf.split(self.X, self.y):\n",
    "                X_train, X_test, y_train, y_test = self.X[train_index, :], self.X[test_index, :], self.y[train_index], self.y[test_index]\n",
    "                fpr, tpr, auc_value = self.loss(X_train, X_test, y_train, y_test)\n",
    "                self.plot_roc(fpr, tpr, auc_value, fold=fold)\n",
    "                auc_lst.append(auc_value)\n",
    "                fold += 1\n",
    "            return auc_lst, np.mean(auc_lst)\n",
    "        \n",
    "knn_classify = KNNClassifier()"
   ]
  },
  {
   "cell_type": "code",
   "execution_count": 13,
   "metadata": {
    "scrolled": true
   },
   "outputs": [
    {
     "name": "stdout",
     "output_type": "stream",
     "text": [
      "The AUC on the test data is 0.927.\n"
     ]
    }
   ],
   "source": [
    "print('The AUC on the test data is {:.3f}.'.format(knn_classify.cross_val_evaluate()))"
   ]
  },
  {
   "cell_type": "markdown",
   "metadata": {},
   "source": [
    "#### (c)"
   ]
  },
  {
   "cell_type": "code",
   "execution_count": 14,
   "metadata": {},
   "outputs": [
    {
     "data": {
      "image/png": "[encoded data removed]",
      "text/plain": [
       "<Figure size 432x288 with 1 Axes>"
      ]
     },
     "metadata": {
      "needs_background": "light"
     },
     "output_type": "display_data"
    },
    {
     "data": {
      "image/png": "[encoded data removed]",
      "text/plain": [
       "<Figure size 432x288 with 1 Axes>"
      ]
     },
     "metadata": {
      "needs_background": "light"
     },
     "output_type": "display_data"
    },
    {
     "data": {
      "image/png": "[encoded data removed]",
      "text/plain": [
       "<Figure size 432x288 with 1 Axes>"
      ]
     },
     "metadata": {
      "needs_background": "light"
     },
     "output_type": "display_data"
    },
    {
     "data": {
      "image/png": "[encoded data removed]",
      "text/plain": [
       "<Figure size 432x288 with 1 Axes>"
      ]
     },
     "metadata": {
      "needs_background": "light"
     },
     "output_type": "display_data"
    },
    {
     "data": {
      "image/png": "[encoded data removed]",
      "text/plain": [
       "<Figure size 432x288 with 1 Axes>"
      ]
     },
     "metadata": {
      "needs_background": "light"
     },
     "output_type": "display_data"
    },
    {
     "data": {
      "image/png": "[encoded data removed]",
      "text/plain": [
       "<Figure size 432x288 with 1 Axes>"
      ]
     },
     "metadata": {
      "needs_background": "light"
     },
     "output_type": "display_data"
    },
    {
     "name": "stdout",
     "output_type": "stream",
     "text": [
      "The average auc of the 10-fold cross validation is: 0.9153368531603056.\n"
     ]
    }
   ],
   "source": [
    "auc_lst, avg_auc = knn_classify.cross_val_evaluate(fold=5, cross_val=True)\n",
    "plt.plot(range(1, 6), auc_lst)\n",
    "plt.title('The auc of 10-fold validation on the test data')\n",
    "plt.show()\n",
    "print('The average auc of the 10-fold cross validation is: {}.'.format(avg_auc))"
   ]
  },
  {
   "cell_type": "markdown",
   "metadata": {},
   "source": [
    "Similar as what we explore in Q1 part (c), it is\n",
    "more meaningful to perform cross validation even though the average auc is slightly lower (depends on the ransom seed), because it includes generalization error when doing cross validation."
   ]
  },
  {
   "cell_type": "code",
   "execution_count": 15,
   "metadata": {},
   "outputs": [
    {
     "data": {
      "text/plain": [
       "0.9299050114641336"
      ]
     },
     "execution_count": 15,
     "metadata": {},
     "output_type": "execute_result"
    }
   ],
   "source": [
    "_, _, auc_value = test_random_seed(4321, model=KNNClassifier())\n",
    "auc_value"
   ]
  },
  {
   "cell_type": "code",
   "execution_count": 16,
   "metadata": {},
   "outputs": [
    {
     "data": {
      "text/plain": [
       "0.9315476190476191"
      ]
     },
     "execution_count": 16,
     "metadata": {},
     "output_type": "execute_result"
    }
   ],
   "source": [
    "_, _, auc_value = test_random_seed(5432, model=KNNClassifier())\n",
    "auc_value"
   ]
  },
  {
   "cell_type": "code",
   "execution_count": 17,
   "metadata": {},
   "outputs": [
    {
     "data": {
      "text/plain": [
       "0.8787878787878788"
      ]
     },
     "execution_count": 17,
     "metadata": {},
     "output_type": "execute_result"
    }
   ],
   "source": [
    "_, _, auc_value = test_random_seed(6543, model=KNNClassifier())\n",
    "auc_value"
   ]
  },
  {
   "cell_type": "code",
   "execution_count": 18,
   "metadata": {},
   "outputs": [
    {
     "data": {
      "text/plain": [
       "0.954871794871795"
      ]
     },
     "execution_count": 18,
     "metadata": {},
     "output_type": "execute_result"
    }
   ],
   "source": [
    "_, _, auc_value = test_random_seed(7654, model=KNNClassifier())\n",
    "auc_value"
   ]
  },
  {
   "cell_type": "markdown",
   "metadata": {},
   "source": [
    "### Q3"
   ]
  },
  {
   "cell_type": "markdown",
   "metadata": {},
   "source": [
    "__K Neighbors Regression__. Return to the dataset in Problem 1. This time, we are\n",
    "interested in K neighbors regression instead of a regression on the whole dataset and we\n",
    "would like to analyze what would be reasonable number of neighbors and what distance\n",
    "to use based on the data. To do so, __perform 10-fold cross validation__. In each fold, fit a\n",
    "“weighted” linear regression in the following manner: For a given test data point, we\n",
    "would like to estimate its outcome based on its $k \\in \\{1, . . . , 10\\}$ nearest neighbors and\n",
    "a regression line weighted by the inverse of the distance of the neighbors of the test\n",
    "point. We would like to use the Minkowski distance with degree p ∈ {1, . . . , 10}. For\n",
    "each fold, report the k and p at which we obtain the lowest RMSE. Do you get the\n",
    "same k and p from each fold? If yes, what does this mean? If no, why not? Then,\n",
    "report the average RMSE across all folds. How different is this obtained RMSE than\n",
    "the one you obtained from Problem 1? Explain."
   ]
  },
  {
   "cell_type": "code",
   "execution_count": 19,
   "metadata": {
    "code_folding": []
   },
   "outputs": [],
   "source": [
    "class KNNRegressionModel(Model):\n",
    "    def __init__(self,\n",
    "                 dist='minkowski',\n",
    "                 weights='distance',\n",
    "                 max_k=10,\n",
    "                 max_p=10):\n",
    "        super(KNNRegressionModel, self).__init__(X=absent_df.iloc[:, :-1],\n",
    "                                                 y=absent_df.iloc[:, -1])\n",
    "        self.dist = dist\n",
    "        self.weights = weights\n",
    "        self.max_k = max_k\n",
    "        self.max_p = max_p\n",
    "        self.model = None\n",
    "\n",
    "    def knn_regression_model(self, k, p):\n",
    "        return KNeighborsRegressor(n_neighbors=k,\n",
    "                                   weights=self.weights,\n",
    "                                   metric=self.dist,\n",
    "                                   p=p)\n",
    "\n",
    "    def fit(self, X_train, y_train):\n",
    "        return super(KNNRegressionModel, self).fit(X_train, y_train)\n",
    "\n",
    "    def predict(self, X_test):\n",
    "        return super(KNNRegressionModel, self).predict(X_test)\n",
    "\n",
    "    def loss(self, X_train, X_test, y_train, y_test):\n",
    "        self.fit(X_train, y_train)\n",
    "        y_pred = self.predict(X_test)\n",
    "        return np.sqrt(mean_squared_error(y_true=y_test, y_pred=y_pred))\n",
    "\n",
    "    def cross_val_evaluate(self, fold=10, cross_val=True):\n",
    "        fold_lst = []\n",
    "        k_lst = []\n",
    "        p_lst = []\n",
    "        rmse_lst = []\n",
    "        skf = StratifiedKFold(n_splits=fold, random_state=self.seed, shuffle=True)\n",
    "        fold = 1\n",
    "        for train_index, test_index in skf.split(self.X, self.y):\n",
    "            X_train, X_test, y_train, y_test = self.X.iloc[train_index, :], self.X.iloc[test_index, :], self.y[train_index], self.y[test_index]\n",
    "            for k in range(1, self.max_k + 1):\n",
    "                for p in range(1, self.max_p + 1):\n",
    "                    self.model = self.knn_regression_model(k, p)\n",
    "                    rmse = self.loss(X_train, X_test, y_train, y_test)\n",
    "                    fold_lst.append(fold)\n",
    "                    k_lst.append(k)\n",
    "                    p_lst.append(p)\n",
    "                    rmse_lst.append(rmse)\n",
    "            fold += 1\n",
    "        df = pd.DataFrame({\n",
    "            'fold': fold_lst,\n",
    "            'k': k_lst,\n",
    "            'p': p_lst,\n",
    "            'rmse': rmse_lst\n",
    "        })\n",
    "\n",
    "        min_rmse_indexes = df.groupby(by=df['fold']).apply(lambda x: x.rmse.values.argmin())\n",
    "        min_rmse_df = pd.DataFrame(\n",
    "            df[df.fold == fold].iloc[min_rmse_indexes[fold], :] for fold in range(1, len(min_rmse_indexes) + 1))\n",
    "        return df, min_rmse_df\n",
    "    \n",
    "knn_reg = KNNRegressionModel()"
   ]
  },
  {
   "cell_type": "code",
   "execution_count": 20,
   "metadata": {},
   "outputs": [
    {
     "name": "stderr",
     "output_type": "stream",
     "text": [
      "/usr/local/lib/python3.6/dist-packages/sklearn/model_selection/_split.py:605: Warning: The least populated class in y has only 1 members, which is too few. The minimum number of members in any class cannot be less than n_splits=10.\n",
      "  % (min_groups, self.n_splits)), Warning)\n"
     ]
    },
    {
     "data": {
      "text/html": [
       "<div>\n",
       "<style scoped>\n",
       "    .dataframe tbody tr th:only-of-type {\n",
       "        vertical-align: middle;\n",
       "    }\n",
       "\n",
       "    .dataframe tbody tr th {\n",
       "        vertical-align: top;\n",
       "    }\n",
       "\n",
       "    .dataframe thead th {\n",
       "        text-align: right;\n",
       "    }\n",
       "</style>\n",
       "<table border=\"1\" class=\"dataframe\">\n",
       "  <thead>\n",
       "    <tr style=\"text-align: right;\">\n",
       "      <th></th>\n",
       "      <th>fold</th>\n",
       "      <th>k</th>\n",
       "      <th>p</th>\n",
       "      <th>rmse</th>\n",
       "    </tr>\n",
       "  </thead>\n",
       "  <tbody>\n",
       "    <tr>\n",
       "      <th>90</th>\n",
       "      <td>1.0</td>\n",
       "      <td>10.0</td>\n",
       "      <td>1.0</td>\n",
       "      <td>6.706570</td>\n",
       "    </tr>\n",
       "    <tr>\n",
       "      <th>139</th>\n",
       "      <td>2.0</td>\n",
       "      <td>4.0</td>\n",
       "      <td>10.0</td>\n",
       "      <td>18.728864</td>\n",
       "    </tr>\n",
       "    <tr>\n",
       "      <th>242</th>\n",
       "      <td>3.0</td>\n",
       "      <td>5.0</td>\n",
       "      <td>3.0</td>\n",
       "      <td>4.478503</td>\n",
       "    </tr>\n",
       "    <tr>\n",
       "      <th>330</th>\n",
       "      <td>4.0</td>\n",
       "      <td>4.0</td>\n",
       "      <td>1.0</td>\n",
       "      <td>20.478647</td>\n",
       "    </tr>\n",
       "    <tr>\n",
       "      <th>406</th>\n",
       "      <td>5.0</td>\n",
       "      <td>1.0</td>\n",
       "      <td>7.0</td>\n",
       "      <td>22.327933</td>\n",
       "    </tr>\n",
       "    <tr>\n",
       "      <th>591</th>\n",
       "      <td>6.0</td>\n",
       "      <td>10.0</td>\n",
       "      <td>2.0</td>\n",
       "      <td>5.655086</td>\n",
       "    </tr>\n",
       "    <tr>\n",
       "      <th>630</th>\n",
       "      <td>7.0</td>\n",
       "      <td>4.0</td>\n",
       "      <td>1.0</td>\n",
       "      <td>7.008642</td>\n",
       "    </tr>\n",
       "    <tr>\n",
       "      <th>799</th>\n",
       "      <td>8.0</td>\n",
       "      <td>10.0</td>\n",
       "      <td>10.0</td>\n",
       "      <td>8.217983</td>\n",
       "    </tr>\n",
       "    <tr>\n",
       "      <th>883</th>\n",
       "      <td>9.0</td>\n",
       "      <td>9.0</td>\n",
       "      <td>4.0</td>\n",
       "      <td>8.053388</td>\n",
       "    </tr>\n",
       "    <tr>\n",
       "      <th>999</th>\n",
       "      <td>10.0</td>\n",
       "      <td>10.0</td>\n",
       "      <td>10.0</td>\n",
       "      <td>12.369984</td>\n",
       "    </tr>\n",
       "  </tbody>\n",
       "</table>\n",
       "</div>"
      ],
      "text/plain": [
       "     fold     k     p       rmse\n",
       "90    1.0  10.0   1.0   6.706570\n",
       "139   2.0   4.0  10.0  18.728864\n",
       "242   3.0   5.0   3.0   4.478503\n",
       "330   4.0   4.0   1.0  20.478647\n",
       "406   5.0   1.0   7.0  22.327933\n",
       "591   6.0  10.0   2.0   5.655086\n",
       "630   7.0   4.0   1.0   7.008642\n",
       "799   8.0  10.0  10.0   8.217983\n",
       "883   9.0   9.0   4.0   8.053388\n",
       "999  10.0  10.0  10.0  12.369984"
      ]
     },
     "execution_count": 20,
     "metadata": {},
     "output_type": "execute_result"
    }
   ],
   "source": [
    "df, min_rmse_df = knn_reg.cross_val_evaluate(fold=10, cross_val=True)\n",
    "min_rmse_df"
   ]
  },
  {
   "cell_type": "markdown",
   "metadata": {},
   "source": [
    "Most of the k and p are from each fold with the min RMSE are not the same.\n",
    "The difference of k in the 10-fold cross validation is affected by the random split of the dataset in each fold, causing slightly different distribution of the training and testing set. And regarding the difference of p in each fold, probably because the the optimal value for choosing k and corresponding p will depend on the\n",
    "bias-variance tradeoff."
   ]
  },
  {
   "cell_type": "code",
   "execution_count": 21,
   "metadata": {},
   "outputs": [
    {
     "data": {
      "text/plain": [
       "(12.947155142792509, 11.402560014845626)"
      ]
     },
     "execution_count": 21,
     "metadata": {},
     "output_type": "execute_result"
    }
   ],
   "source": [
    "df.rmse.mean(), min_rmse_df.rmse.mean()"
   ]
  },
  {
   "cell_type": "markdown",
   "metadata": {},
   "source": [
    "In Problem 1, the average RMSE of the 10-fold cross validation is: 10.546, while here the average RMSE across all folds is 11.402(average of the min RMSE across all folds, if it is the average of the all RMSE across all folds, then is 12.947), the difference is small but RMSE increases, indicates that the linear regression model, as a parametric approach preforms slightly better than KNN regression, the non parametric approach in this case. Therefore, there's possibility that the feature set of the absent work dataset might be more likely to be linearly related to the absent time."
   ]
  }
 ],
 "metadata": {
  "kernelspec": {
   "display_name": "Python 3",
   "language": "python",
   "name": "python3"
  },
  "language_info": {
   "codemirror_mode": {
    "name": "ipython",
    "version": 3
   },
   "file_extension": ".py",
   "mimetype": "text/x-python",
   "name": "python",
   "nbconvert_exporter": "python",
   "pygments_lexer": "ipython3",
   "version": "3.6.6"
  },
  "latex_envs": {
   "LaTeX_envs_menu_present": true,
   "autoclose": false,
   "autocomplete": true,
   "bibliofile": "biblio.bib",
   "cite_by": "apalike",
   "current_citInitial": 1,
   "eqLabelWithNumbers": true,
   "eqNumInitial": 1,
   "hotkeys": {
    "equation": "Ctrl-E",
    "itemize": "Ctrl-I"
   },
   "labels_anchors": false,
   "latex_user_defs": false,
   "report_style_numbering": false,
   "user_envs_cfg": false
  },
  "varInspector": {
   "cols": {
    "lenName": 16,
    "lenType": 16,
    "lenVar": 40
   },
   "kernels_config": {
    "python": {
     "delete_cmd_postfix": "",
     "delete_cmd_prefix": "del ",
     "library": "var_list.py",
     "varRefreshCmd": "print(var_dic_list())"
    },
    "r": {
     "delete_cmd_postfix": ") ",
     "delete_cmd_prefix": "rm(",
     "library": "var_list.r",
     "varRefreshCmd": "cat(var_dic_list()) "
    }
   },
   "types_to_exclude": [
    "module",
    "function",
    "builtin_function_or_method",
    "instance",
    "_Feature"
   ],
   "window_display": false
  }
 },
 "nbformat": 4,
 "nbformat_minor": 2
}
