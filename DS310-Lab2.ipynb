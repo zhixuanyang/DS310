{
 "cells": [
  {
   "cell_type": "code",
   "execution_count": 1,
   "metadata": {},
   "outputs": [],
   "source": [
    "import pandas as pd\n",
    "import matplotlib\n",
    "import numpy as np\n",
    "from datascience import *\n",
    "from sklearn import datasets\n",
    "from sklearn.model_selection import StratifiedKFold,cross_val_score,cross_validate\n",
    "from sklearn.ensemble import RandomForestClassifier\n",
    "from sklearn.metrics import confusion_matrix,roc_auc_score,roc_curve,mean_squared_error\n",
    "from scipy.sparse import *\n",
    "from sklearn.naive_bayes import MultinomialNB\n",
    "from sklearn.feature_extraction.text import CountVectorizer, TfidfTransformer\n",
    "from sklearn.pipeline import Pipeline\n",
    "from sklearn import metrics\n",
    "from sklearn.metrics import make_scorer, accuracy_score, precision_score, recall_score, f1_score,auc\n",
    "from sklearn.preprocessing import LabelBinarizer"
   ]
  },
  {
   "cell_type": "markdown",
   "metadata": {},
   "source": [
    "Problem 1. Random forest"
   ]
  },
  {
   "cell_type": "markdown",
   "metadata": {},
   "source": [
    "(a)"
   ]
  },
  {
   "cell_type": "code",
   "execution_count": 2,
   "metadata": {},
   "outputs": [],
   "source": [
    "cancer = datasets.load_breast_cancer()\n",
    "x_cancer = cancer.data\n",
    "y_cancer=cancer.target\n",
    "avg_accuracy = []\n",
    "avg_sensitivity = []\n",
    "avg_false_alarm= []\n",
    "avg_specificity = []\n",
    "avg_AUC = []\n",
    "avg_features = []\n",
    "skf = StratifiedKFold(n_splits=5,random_state=np.random.seed(1234), shuffle=True)\n",
    "clf = RandomForestClassifier(n_estimators=100,random_state=np.random.seed(1234))\n",
    "for train_index, test_index in skf.split(x_cancer,y_cancer):\n",
    "    x_cancer_train, x_cancer_test,y_cancer_train, y_cancer_test = x_cancer[train_index], x_cancer[test_index],y_cancer[train_index], y_cancer[test_index]\n",
    "    clf.fit(x_cancer_train,y_cancer_train)\n",
    "    prediction = clf.predict(x_cancer_test)\n",
    "    tn, fp, fn, tp = confusion_matrix(y_cancer_test, prediction).ravel()\n",
    "    n = tn+fp+fn+tp\n",
    "    accuracy = (tp+tn)/(n)\n",
    "    sensitivity = (tp)/(tp+fn)\n",
    "    specificity = (tp)/(tp+fp)\n",
    "    false_alarm = (fp)/(tn+fp)\n",
    "    AUC = roc_auc_score(y_cancer_test,prediction)\n",
    "    avg_accuracy.append(accuracy)\n",
    "    avg_sensitivity.append(sensitivity)\n",
    "    avg_specificity.append(specificity)\n",
    "    avg_false_alarm.append(false_alarm)\n",
    "    avg_AUC.append(AUC)\n",
    "    feature_importances = clf.feature_importances_\n",
    "    avg_features.append(feature_importances)"
   ]
  },
  {
   "cell_type": "code",
   "execution_count": 3,
   "metadata": {},
   "outputs": [
    {
     "name": "stdout",
     "output_type": "stream",
     "text": [
      "The average accuracy of 5-fold cross-validation is 0.9595998460946518\n",
      "The average sensitivity of 5-fold cross-validation is 0.9664710485133021\n",
      "The average specificity of 5-fold cross-validation is 0.9694269058974943\n",
      "The average false alarm of 5-fold cross-validation is 0.05204872646733112\n",
      "The average AUC of 5-fold cross-validation is 0.9572111610229854\n"
     ]
    }
   ],
   "source": [
    "print(\"The average accuracy of 5-fold cross-validation is\",np.mean(avg_accuracy))\n",
    "print(\"The average sensitivity of 5-fold cross-validation is\",np.mean(avg_sensitivity))\n",
    "print(\"The average specificity of 5-fold cross-validation is\",np.mean(avg_specificity))\n",
    "print(\"The average false alarm of 5-fold cross-validation is\",np.mean(avg_false_alarm))\n",
    "print(\"The average AUC of 5-fold cross-validation is\",np.mean(avg_AUC))"
   ]
  },
  {
   "cell_type": "markdown",
   "metadata": {},
   "source": [
    "(b)"
   ]
  },
  {
   "cell_type": "code",
   "execution_count": 4,
   "metadata": {},
   "outputs": [
    {
     "name": "stdout",
     "output_type": "stream",
     "text": [
      "The average feature importance of mean radius is 0.03518229916218503\n",
      "The average feature importance of mean texture is 0.01403610232604256\n",
      "The average feature importance of mean perimeter is 0.043777047176623125\n",
      "The average feature importance of mean area is 0.04696411754510499\n",
      "The average feature importance of mean smoothness is 0.0067146611569918095\n",
      "The average feature importance of mean compactness is 0.009572990441750515\n",
      "The average feature importance of mean concavity is 0.04708229407552539\n",
      "The average feature importance of mean concave points is 0.09648144458237268\n",
      "The average feature importance of mean symmetry is 0.0034913746551913163\n",
      "The average feature importance of mean fractal dimension is 0.00414854943324716\n",
      "The average feature importance of radius error is 0.012874966526833533\n",
      "The average feature importance of texture error is 0.004584787264900253\n",
      "The average feature importance of perimeter error is 0.01677293659942347\n",
      "The average feature importance of area error is 0.03936911737216794\n",
      "The average feature importance of smoothness error is 0.005307627124407894\n",
      "The average feature importance of compactness error is 0.0036899021576443313\n",
      "The average feature importance of concavity error is 0.007169629940294231\n",
      "The average feature importance of concave points error is 0.00562689804637737\n",
      "The average feature importance of symmetry error is 0.0038598361759143323\n",
      "The average feature importance of fractal dimension error is 0.0045139458834730925\n",
      "The average feature importance of worst radius is 0.11541923352911151\n",
      "The average feature importance of worst texture is 0.01767606147308457\n",
      "The average feature importance of worst perimeter is 0.11921961813972275\n",
      "The average feature importance of worst area is 0.13045857821473975\n",
      "The average feature importance of worst smoothness is 0.01017433394671403\n",
      "The average feature importance of worst compactness is 0.011318885374092633\n",
      "The average feature importance of worst concavity is 0.03726995079825356\n",
      "The average feature importance of worst concave points is 0.12960656342507468\n",
      "The average feature importance of worst symmetry is 0.011526809799788354\n",
      "The average feature importance of worst fractal dimension is 0.006109437652947192\n"
     ]
    }
   ],
   "source": [
    "answer= []\n",
    "for i in range (0,30):\n",
    "    result = 0\n",
    "    result=avg_features[0][i]+avg_features[1][i]+avg_features[2][i]+avg_features[3][i]+avg_features[4][i]\n",
    "    answer.append(result/5)\n",
    "for i in range(0,30):\n",
    "    print(\"The average feature importance of\",cancer.feature_names[i],\"is\",answer[i])"
   ]
  },
  {
   "cell_type": "markdown",
   "metadata": {},
   "source": [
    "Problem 2. Multinomial Naive Bayes Classifier"
   ]
  },
  {
   "cell_type": "code",
   "execution_count": 5,
   "metadata": {},
   "outputs": [],
   "source": [
    "def multiclass_roc_auc_score(y_test, y_pred, average='macro'):\n",
    "    lb = LabelBinarizer()\n",
    "    lb.fit(y_test)\n",
    "    y_test = lb.transform(y_test)\n",
    "    y_pred = lb.transform(y_pred)\n",
    "    return roc_auc_score(y_test, y_pred, average=average)\n",
    "\n",
    "def multiclass_precision_score(y_test, y_pred, average= 'macro'):\n",
    "    lb = LabelBinarizer()\n",
    "    lb.fit(y_test)\n",
    "    y_test = lb.transform(y_test)\n",
    "    y_pred = lb.transform(y_pred)\n",
    "    return precision_score(y_test, y_pred, average=average)\n",
    "\n",
    "def multiclass_recall_score(y_test, y_pred, average= 'macro'):\n",
    "    lb = LabelBinarizer()\n",
    "    lb.fit(y_test)\n",
    "    y_test = lb.transform(y_test)\n",
    "    y_pred = lb.transform(y_pred)\n",
    "    return recall_score(y_test, y_pred, average=average)\n",
    "\n",
    "def multiclass_accuracy_score(y_test, y_pred):\n",
    "    lb = LabelBinarizer()\n",
    "    lb.fit(y_test)\n",
    "    y_test = lb.transform(y_test)\n",
    "    y_pred = lb.transform(y_pred)\n",
    "    return accuracy_score(y_test, y_pred)"
   ]
  },
  {
   "cell_type": "code",
   "execution_count": 6,
   "metadata": {},
   "outputs": [],
   "source": [
    "categories = ['comp.graphics','comp.os.ms-windows.misc','comp.sys.ibm.pc.hardware','comp.sys.mac.hardware','comp.windows.x',\n",
    "              'rec.autos','rec.motorcycles','rec.sport.baseball','rec.sport.hockey','sci.crypt','sci.electronics',\n",
    "             'sci.med','sci.space','misc.forsale','talk.politics.misc','talk.politics.guns','talk.politics.mideast',\n",
    "             'talk.religion.misc','alt.atheism','soc.religion.christian']\n",
    "news = datasets.fetch_20newsgroups(subset= 'all',categories = categories,shuffle=True,random_state=np.random.seed(1234))\n",
    "news_x = news.data\n",
    "news_y = news.target\n",
    "count_vect = CountVectorizer()\n",
    "news_x_counts = count_vect.fit_transform(news_x)\n",
    "tfidf_transformer = TfidfTransformer()\n",
    "news_x_tfidf = tfidf_transformer.fit_transform(news_x_counts)\n",
    "skf = StratifiedKFold(n_splits=5,random_state=np.random.seed(1234), shuffle=True)\n",
    "clf_nb = MultinomialNB()\n",
    "recall_list = []\n",
    "accuracy_list = []\n",
    "precision_list = []\n",
    "auc_list = []\n",
    "for train_index, test_index in skf.split(news_x_tfidf,news_y):\n",
    "    x_news_train, x_news_test,y_news_train, y_news_test = news_x_tfidf[train_index], news_x_tfidf[test_index],news_y[train_index], news_y[test_index]\n",
    "    clf_nb.fit(x_news_train,y_news_train)\n",
    "    predict = clf_nb.predict(x_news_test)\n",
    "    accuracy = multiclass_accuracy_score(y_news_test, predict)\n",
    "    precision = multiclass_precision_score(y_news_test, predict)\n",
    "    recall = multiclass_recall_score(y_news_test, predict)\n",
    "    auc = multiclass_roc_auc_score(y_news_test, predict)\n",
    "    accuracy_list.append(accuracy)\n",
    "    recall_list.append(recall)\n",
    "    precision_list.append(precision)\n",
    "    auc_list.append(auc)"
   ]
  },
  {
   "cell_type": "code",
   "execution_count": 7,
   "metadata": {},
   "outputs": [
    {
     "name": "stdout",
     "output_type": "stream",
     "text": [
      "The average accuracy of 5-fold cross-validation is 0.8543960408824974\n",
      "The average sensitivity of 5-fold cross-validation is 0.838896709402475\n",
      "The average specificity of 5-fold cross-validation is 0.879409718634229\n",
      "The average AUC of 5-fold cross-validation is 0.9156100220805122\n"
     ]
    }
   ],
   "source": [
    "print(\"The average accuracy of 5-fold cross-validation is\",np.mean(accuracy_list))\n",
    "print(\"The average sensitivity of 5-fold cross-validation is\",np.mean(recall_list))\n",
    "print(\"The average specificity of 5-fold cross-validation is\",np.mean(precision_list))\n",
    "print(\"The average AUC of 5-fold cross-validation is\",np.mean(auc_list))"
   ]
  }
 ],
 "metadata": {
  "kernelspec": {
   "display_name": "Python 3",
   "language": "python",
   "name": "python3"
  },
  "language_info": {
   "codemirror_mode": {
    "name": "ipython",
    "version": 3
   },
   "file_extension": ".py",
   "mimetype": "text/x-python",
   "name": "python",
   "nbconvert_exporter": "python",
   "pygments_lexer": "ipython3",
   "version": "3.7.4"
  }
 },
 "nbformat": 4,
 "nbformat_minor": 2
}
